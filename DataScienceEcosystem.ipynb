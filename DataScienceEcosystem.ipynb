{
 "cells": [
  {
   "cell_type": "markdown",
   "id": "e4b8fd00-1fbf-4ddb-83c5-e84838542662",
   "metadata": {},
   "source": [
    "# Data Science tools and Ecosystem"
   ]
  },
  {
   "cell_type": "markdown",
   "id": "825ea260-6a72-4892-8b76-a6c8639b41ab",
   "metadata": {},
   "source": [
    "In this notebook, Data Science Tools and ecosystem are summarized."
   ]
  },
  {
   "cell_type": "markdown",
   "id": "e14d3119-7591-4c3b-970f-af7094bc4637",
   "metadata": {},
   "source": [
    "**Objectives:**\n",
    "* List popular Languages in Data Science\n",
    "* List libraries commonly used\n",
    "* Demonstrate markdown techniques\n",
    "* Perform simple mathematical operations"
   ]
  },
  {
   "cell_type": "markdown",
   "id": "6476df54-7118-486a-86ab-172e52293f53",
   "metadata": {},
   "source": [
    "Some of the popular languages that Data Scientists use are:\n",
    "1. Python\n",
    "1. SQL\n",
    "1. Julia \n",
    "1. Scala\n",
    "1. Apache\n"
   ]
  },
  {
   "cell_type": "markdown",
   "id": "5b9d37f8-e31d-41f8-b976-737ec31767dc",
   "metadata": {},
   "source": [
    "Some of the commonly used libraries used by Data Scientists include:\n",
    "1. Seaborne\n",
    "1. Pandas\n",
    "1. Tensorflow\n",
    "1. NumPy\n"
   ]
  },
  {
   "cell_type": "markdown",
   "id": "d4b97e58-d7a5-4387-9dba-10a6ddf77bb1",
   "metadata": {},
   "source": [
    "| Data science tools |\n",
    "| --- |\n",
    "| VSCode |\n",
    "| Pycharm |\n",
    "| Rstudio |\n",
    "| Jupyter |"
   ]
  },
  {
   "cell_type": "markdown",
   "id": "e127c322-e3e7-4fde-8387-637b68ab91a6",
   "metadata": {},
   "source": [
    "### Below area few examples of evaluating arithmetic expressions in Python"
   ]
  },
  {
   "cell_type": "code",
   "execution_count": 2,
   "id": "29b89bb9-8131-4fc7-a693-ed2a0e709d7a",
   "metadata": {},
   "outputs": [
    {
     "data": {
      "text/plain": [
       "17"
      ]
     },
     "execution_count": 2,
     "metadata": {},
     "output_type": "execute_result"
    }
   ],
   "source": [
    "(3*4)+5"
   ]
  },
  {
   "cell_type": "code",
   "execution_count": 3,
   "id": "2ed0962f-3ea4-4637-8d07-7e118a9f52fe",
   "metadata": {},
   "outputs": [
    {
     "data": {
      "text/plain": [
       "3.3333333333333335"
      ]
     },
     "execution_count": 3,
     "metadata": {},
     "output_type": "execute_result"
    }
   ],
   "source": [
    "#This will convert 200 minutes to hours by dividing by 60 #\n",
    "\n",
    "(200 / 60)\n",
    "\n"
   ]
  },
  {
   "cell_type": "code",
   "execution_count": null,
   "id": "f00abf52-04f7-4502-9669-1ab6735b16e4",
   "metadata": {},
   "outputs": [],
   "source": []
  },
  {
   "cell_type": "markdown",
   "id": "35b00851-7e8f-4e51-8800-dc96393c57a2",
   "metadata": {},
   "source": [
    "## Author\n",
    "Mario Liboni\n"
   ]
  }
 ],
 "metadata": {
  "kernelspec": {
   "display_name": "Python 3 (ipykernel)",
   "language": "python",
   "name": "python3"
  },
  "language_info": {
   "codemirror_mode": {
    "name": "ipython",
    "version": 3
   },
   "file_extension": ".py",
   "mimetype": "text/x-python",
   "name": "python",
   "nbconvert_exporter": "python",
   "pygments_lexer": "ipython3",
   "version": "3.12.8"
  }
 },
 "nbformat": 4,
 "nbformat_minor": 5
}
